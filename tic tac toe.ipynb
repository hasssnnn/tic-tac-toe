{
 "cells": [
  {
   "cell_type": "code",
   "execution_count": null,
   "id": "b97ea5a1",
   "metadata": {},
   "outputs": [
    {
     "name": "stdout",
     "output_type": "stream",
     "text": [
      " |  | \n",
      "---------\n",
      " |  | \n",
      "---------\n",
      " |  | \n",
      "---------\n",
      "Player X, it's your turn.\n",
      "Enter row (0, 1, 2): 0\n",
      "Enter column (0, 1, 2): 0\n",
      "X |  | \n",
      "---------\n",
      " |  | \n",
      "---------\n",
      " |  | \n",
      "---------\n",
      "Player O, it's your turn.\n"
     ]
    }
   ],
   "source": [
    "def display_grid(grid):  #draw the table of the game\n",
    "    for row in grid:\n",
    "        print(\" | \".join(row))\n",
    "        print(\"-\" * 9)\n",
    "\n",
    "def check_win(grid, player):\n",
    "    for row in grid:\n",
    "        if all(square == player for square in row):     #wether all squares in a row belong to a specified played or not\n",
    "            return True\n",
    "\n",
    "    for col in range(3):\n",
    "        if all(grid[row][col] == player for row in range(3)):\n",
    "            return True\n",
    "\n",
    "    if all(grid[i][i] == player for i in range(3)) or all(grid[i][2 - i] == player for i in range(3)):\n",
    "        return True\n",
    "\n",
    "    return False\n",
    "\n",
    "def check_tie(grid):\n",
    "    return all(all(square != \"\" for square in row) for row in grid)\n",
    "\n",
    "def main():  #defining main function\n",
    "    game_grid = [[\"\"] * 3 for _ in range(3)]\n",
    "    current_player = \"X\"\n",
    "    \n",
    "    while True:\n",
    "        display_grid(game_grid)\n",
    "        print(f\"Player {current_player}, it's your turn.\")\n",
    "        \n",
    "        row = int(input(\"Enter row (0, 1, 2): \"))\n",
    "        col = int(input(\"Enter column (0, 1, 2): \"))\n",
    "        \n",
    "        if game_grid[row][col] == \"\":\n",
    "            game_grid[row][col] = current_player\n",
    "            if check_win(game_grid, current_player):\n",
    "                display_grid(game_grid)\n",
    "                print(f\"Player {current_player} wins!\")\n",
    "                break\n",
    "            elif check_tie(game_grid):\n",
    "                display_grid(game_grid)\n",
    "                print(\"It's a tie!\")\n",
    "                break\n",
    "            current_player = \"O\" if current_player == \"X\" else \"X\"\n",
    "        else:\n",
    "            print(\"That spot is already taken. Try again.\")\n",
    "\n",
    "if __name__ == \"__main__\":\n",
    "    main()\n"
   ]
  },
  {
   "cell_type": "code",
   "execution_count": null,
   "id": "39600f9f",
   "metadata": {},
   "outputs": [],
   "source": []
  }
 ],
 "metadata": {
  "kernelspec": {
   "display_name": "Python 3 (ipykernel)",
   "language": "python",
   "name": "python3"
  },
  "language_info": {
   "codemirror_mode": {
    "name": "ipython",
    "version": 3
   },
   "file_extension": ".py",
   "mimetype": "text/x-python",
   "name": "python",
   "nbconvert_exporter": "python",
   "pygments_lexer": "ipython3",
   "version": "3.11.4"
  }
 },
 "nbformat": 4,
 "nbformat_minor": 5
}
